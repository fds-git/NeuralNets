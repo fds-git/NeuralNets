{
 "cells": [
  {
   "cell_type": "code",
   "execution_count": 1,
   "id": "fb4733dc",
   "metadata": {},
   "outputs": [],
   "source": [
    "import numpy as np\n",
    "import pandas as pd\n",
    "import torch\n",
    "from facenet_pytorch import MTCNN, InceptionResnetV1\n",
    "import pickle\n",
    "import face_recognition\n",
    "from torchsummary import summary"
   ]
  },
  {
   "cell_type": "markdown",
   "id": "bf08442c",
   "metadata": {},
   "source": [
    "### Проверяем, как сеть на основе facenet_pytorch разделила два разных человека"
   ]
  },
  {
   "cell_type": "code",
   "execution_count": 2,
   "id": "0bbf176c",
   "metadata": {},
   "outputs": [
    {
     "data": {
      "text/html": [
       "<div>\n",
       "<style scoped>\n",
       "    .dataframe tbody tr th:only-of-type {\n",
       "        vertical-align: middle;\n",
       "    }\n",
       "\n",
       "    .dataframe tbody tr th {\n",
       "        vertical-align: top;\n",
       "    }\n",
       "\n",
       "    .dataframe thead th {\n",
       "        text-align: right;\n",
       "    }\n",
       "</style>\n",
       "<table border=\"1\" class=\"dataframe\">\n",
       "  <thead>\n",
       "    <tr style=\"text-align: right;\">\n",
       "      <th></th>\n",
       "      <th>id</th>\n",
       "      <th>name</th>\n",
       "      <th>centroid</th>\n",
       "      <th>centroid_distances</th>\n",
       "    </tr>\n",
       "  </thead>\n",
       "  <tbody>\n",
       "    <tr>\n",
       "      <th>0</th>\n",
       "      <td>1</td>\n",
       "      <td>sanya</td>\n",
       "      <td>[-0.003944836, -0.075293384, -0.006138184, -0....</td>\n",
       "      <td>[0.27516678, 0.5301912, 0.3628963, 0.3085335, ...</td>\n",
       "    </tr>\n",
       "    <tr>\n",
       "      <th>1</th>\n",
       "      <td>2</td>\n",
       "      <td>dima</td>\n",
       "      <td>[-0.09354882, -0.020184709, -0.06168613, 0.004...</td>\n",
       "      <td>[0.22301455, 0.40964285, 0.29644352, 0.3425381...</td>\n",
       "    </tr>\n",
       "    <tr>\n",
       "      <th>2</th>\n",
       "      <td>3</td>\n",
       "      <td>igor</td>\n",
       "      <td>[-0.01839136, -0.0027974478, -0.04047364, 0.00...</td>\n",
       "      <td>[0.26196218, 0.4271384, 0.3558697, 0.34071392,...</td>\n",
       "    </tr>\n",
       "  </tbody>\n",
       "</table>\n",
       "</div>"
      ],
      "text/plain": [
       "  id   name                                           centroid  \\\n",
       "0  1  sanya  [-0.003944836, -0.075293384, -0.006138184, -0....   \n",
       "1  2   dima  [-0.09354882, -0.020184709, -0.06168613, 0.004...   \n",
       "2  3   igor  [-0.01839136, -0.0027974478, -0.04047364, 0.00...   \n",
       "\n",
       "                                  centroid_distances  \n",
       "0  [0.27516678, 0.5301912, 0.3628963, 0.3085335, ...  \n",
       "1  [0.22301455, 0.40964285, 0.29644352, 0.3425381...  \n",
       "2  [0.26196218, 0.4271384, 0.3558697, 0.34071392,...  "
      ]
     },
     "execution_count": 2,
     "metadata": {},
     "output_type": "execute_result"
    }
   ],
   "source": [
    "database = pd.read_pickle('database.pkl')\n",
    "database"
   ]
  },
  {
   "cell_type": "code",
   "execution_count": 5,
   "id": "fb2ee44e",
   "metadata": {},
   "outputs": [],
   "source": [
    "a = database.iloc[0]['centroid']\n",
    "b = database.iloc[1]['centroid']\n",
    "c = database.iloc[2]['centroid']"
   ]
  },
  {
   "cell_type": "code",
   "execution_count": 4,
   "id": "f4e9889f",
   "metadata": {},
   "outputs": [
    {
     "data": {
      "text/plain": [
       "tensor(1.2790)"
      ]
     },
     "execution_count": 4,
     "metadata": {},
     "output_type": "execute_result"
    }
   ],
   "source": [
    "centroid_distances = torch.linalg.vector_norm((torch.from_numpy(a) - torch.from_numpy(b)), ord=2, dim=0)\n",
    "centroid_distances"
   ]
  },
  {
   "cell_type": "code",
   "execution_count": 6,
   "id": "295917d6",
   "metadata": {},
   "outputs": [
    {
     "data": {
      "text/plain": [
       "tensor(1.2237)"
      ]
     },
     "execution_count": 6,
     "metadata": {},
     "output_type": "execute_result"
    }
   ],
   "source": [
    "centroid_distances = torch.linalg.vector_norm((torch.from_numpy(b) - torch.from_numpy(c)), ord=2, dim=0)\n",
    "centroid_distances"
   ]
  },
  {
   "cell_type": "code",
   "execution_count": 7,
   "id": "1555c58a",
   "metadata": {},
   "outputs": [
    {
     "data": {
      "text/plain": [
       "tensor(1.3574)"
      ]
     },
     "execution_count": 7,
     "metadata": {},
     "output_type": "execute_result"
    }
   ],
   "source": [
    "centroid_distances = torch.linalg.vector_norm((torch.from_numpy(a) - torch.from_numpy(c)), ord=2, dim=0)\n",
    "centroid_distances"
   ]
  },
  {
   "cell_type": "markdown",
   "id": "62cdf667",
   "metadata": {},
   "source": [
    "### Проверяем, как сеть на основе face_recognition разделила два разных человека"
   ]
  },
  {
   "cell_type": "code",
   "execution_count": 28,
   "id": "5462b17a",
   "metadata": {},
   "outputs": [],
   "source": [
    "f=open(\"ref_name.pkl\",\"rb\")\n",
    "ref_dictt=pickle.load(f)         #ref_dict=ref vs name\n",
    "f.close()\n",
    "\n",
    "f=open(\"ref_embed.pkl\",\"rb\")\n",
    "embed_dictt=pickle.load(f)      #embed_dict- ref  vs embedding \n",
    "f.close()\n",
    "\n",
    "############################################################################  encodings and ref_ids \n",
    "known_face_encodings = []  #encodingd of faces\n",
    "known_face_names = []\t   #ref_id of faces\n",
    "\n",
    "\n",
    "\n",
    "for ref_id , embed_list in embed_dictt.items():\n",
    "    for embed in embed_list:\n",
    "        known_face_encodings +=[embed]\n",
    "        known_face_names += [ref_id]"
   ]
  },
  {
   "cell_type": "code",
   "execution_count": 29,
   "id": "102f3350",
   "metadata": {},
   "outputs": [
    {
     "data": {
      "text/plain": [
       "tensor(0.7774, dtype=torch.float64)"
      ]
     },
     "execution_count": 29,
     "metadata": {},
     "output_type": "execute_result"
    }
   ],
   "source": [
    "centroid_distances = torch.linalg.vector_norm(torch.tensor(known_face_encodings[0]) - torch.tensor(known_face_encodings[6]), ord=2, dim=0)\n",
    "centroid_distances"
   ]
  },
  {
   "cell_type": "code",
   "execution_count": 30,
   "id": "7e06f84c",
   "metadata": {},
   "outputs": [
    {
     "data": {
      "text/plain": [
       "tensor(0.2651, dtype=torch.float64)"
      ]
     },
     "execution_count": 30,
     "metadata": {},
     "output_type": "execute_result"
    }
   ],
   "source": [
    "centroid_distances = torch.linalg.vector_norm(torch.tensor(known_face_encodings[0]) - torch.tensor(known_face_encodings[1]), ord=2, dim=0)\n",
    "centroid_distances"
   ]
  },
  {
   "cell_type": "markdown",
   "id": "4cdc1b35",
   "metadata": {},
   "source": [
    "#### Вывод сеть из facenet_pytorch лучше разделяет людей"
   ]
  }
 ],
 "metadata": {
  "kernelspec": {
   "display_name": "Python 3 (ipykernel)",
   "language": "python",
   "name": "python3"
  },
  "language_info": {
   "codemirror_mode": {
    "name": "ipython",
    "version": 3
   },
   "file_extension": ".py",
   "mimetype": "text/x-python",
   "name": "python",
   "nbconvert_exporter": "python",
   "pygments_lexer": "ipython3",
   "version": "3.8.8"
  }
 },
 "nbformat": 4,
 "nbformat_minor": 5
}
